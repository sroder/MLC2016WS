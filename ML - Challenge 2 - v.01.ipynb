{
 "cells": [
  {
   "cell_type": "code",
   "execution_count": 198,
   "metadata": {
    "collapsed": false
   },
   "outputs": [],
   "source": [
    "import pandas as pd\n",
    "import numpy"
   ]
  },
  {
   "cell_type": "code",
   "execution_count": 6,
   "metadata": {
    "collapsed": false
   },
   "outputs": [],
   "source": [
    "raw_df = pd.read_hdf('Machine Learning\\data.h5', 'raw')"
   ]
  },
  {
   "cell_type": "code",
   "execution_count": 62,
   "metadata": {
    "collapsed": true
   },
   "outputs": [
    {
     "name": "stdout",
     "output_type": "stream",
     "text": [
      "            timestamp  foreperiod_start  foreperiod_end  response_received  \\\n",
      "0 2016-11-06 15:58:13          57982935        57986553           57986889   \n",
      "\n",
      "   subject  trial  test  requested_foreperiod  actual_foreperiod  \\\n",
      "0        1      0    80                  3607               3618   \n",
      "\n",
      "   response_time note  tag garbage_collection  \n",
      "0            336  NaN  NaN              False  \n"
     ]
    }
   ],
   "source": [
    "print(raw_df)"
   ]
  },
  {
   "cell_type": "code",
   "execution_count": 11,
   "metadata": {
    "collapsed": false
   },
   "outputs": [],
   "source": [
    "def get_quantile(data, q):\n",
    "    \"\"\"Takes series of values and returns quantile limit as well as the mean of the values above the quantile.\n",
    "    data: Data as pandas Series.\n",
    "    q: Quantile (0.75 -> 75%)\n",
    "    returns: quantile limit, mean value of elements above quantile limit\"\"\"\n",
    "    quantile_limit = data.quantile(q=q)\n",
    "    quantile_mean = data[data >= quantile_limit].mean()\n",
    "    return quantile_limit, quantile_mean"
   ]
  },
  {
   "cell_type": "code",
   "execution_count": 15,
   "metadata": {
    "collapsed": false
   },
   "outputs": [],
   "source": [
    "def compute_features(test_df, verbose=False):\n",
    "    \"\"\" Takes PVT test results and returns feature vector as a result.\n",
    "    test_df: Dataframe containing PVT test results.\n",
    "    Returns: Series containing the feature vector.\n",
    "    \"\"\"\n",
    "    test_time = test_df.timestamp.iloc[0]\n",
    "    n = test_df.shape[0]\n",
    "    positive_data = test_df[test_df.response_time > 0] # drop all \"too early samples\"\n",
    "    n_positive = positive_data.shape[0]\n",
    "    positive_mean = positive_data.response_time.mean()\n",
    "    positive_median = positive_data.response_time.median()\n",
    "    positive_std = positive_data.response_time.std()\n",
    "    q50_lim, q50_mean = get_quantile(positive_data.response_time, 0.50)\n",
    "    q75_lim, q75_mean = get_quantile(positive_data.response_time, 0.75)\n",
    "    q90_lim, q90_mean = get_quantile(positive_data.response_time, 0.90)\n",
    "    q95_lim, q95_mean = get_quantile(positive_data.response_time, 0.95)\n",
    "    features = pd.Series({'Test_time': test_time, \n",
    "                          'Subject': test_df.subject.iloc[0], \n",
    "                          'Test_nr': test_df.test.iloc[0], \n",
    "                          'n_total': n,\n",
    "                          'n_positive': n_positive,\n",
    "                          'positive_mean': positive_mean,\n",
    "                          'positive_median': positive_median,\n",
    "                          'positive_std': positive_std,\n",
    "                          'q50_lim': q50_lim, \n",
    "                          'q75_lim': q75_lim,\n",
    "                          'q90_lim': q90_lim,\n",
    "                          'q95_lim': q95_lim,\n",
    "                          'q50_mean': q50_mean,\n",
    "                          'q75_mean': q75_mean,\n",
    "                          'q90_mean': q90_mean,\n",
    "                          'q95_mean': q95_mean})\n",
    "    if verbose: print(features)\n",
    "    return features"
   ]
  },
  {
   "cell_type": "code",
   "execution_count": 16,
   "metadata": {
    "collapsed": false
   },
   "outputs": [],
   "source": [
    "feature_df = pd.DataFrame()\n",
    "\n",
    "for subject_id, subject_df in raw_df.groupby(raw_df.subject):\n",
    "    for test_id, test_df in subject_df.groupby(subject_df.test):\n",
    "        feature_df = feature_df.append(compute_features(test_df), ignore_index=True)\n",
    "        feature_df.reset_index(inplace=True, drop=True)"
   ]
  },
  {
   "cell_type": "code",
   "execution_count": 18,
   "metadata": {
    "collapsed": false
   },
   "outputs": [],
   "source": [
    "# Compute the time of day as a float\n",
    "h = feature_df.Test_time.apply(lambda x: x.hour)\n",
    "m = feature_df.Test_time.apply(lambda x: x.minute)\n",
    "feature_df['time_of_day'] = h + (m/60.0)"
   ]
  },
  {
   "cell_type": "code",
   "execution_count": 23,
   "metadata": {
    "collapsed": false,
    "scrolled": false
   },
   "outputs": [
    {
     "name": "stdout",
     "output_type": "stream",
     "text": [
      "   Subject  Test_nr           Test_time  n_positive  n_total  positive_mean  \\\n",
      "0      1.0     28.0 2016-10-31 07:24:08        40.0     43.0        346.725   \n",
      "\n",
      "   positive_median  positive_std  q50_lim    q50_mean  q75_lim    q75_mean  \\\n",
      "0            327.0       85.6723    327.0  397.238095    364.0  449.727273   \n",
      "\n",
      "   q90_lim  q90_mean  q95_lim  q95_mean  time_of_day  \n",
      "0    431.6    559.75   497.65     633.0          7.4  \n"
     ]
    }
   ],
   "source": [
    "print(feature_df[:1])"
   ]
  },
  {
   "cell_type": "code",
   "execution_count": 24,
   "metadata": {
    "collapsed": true
   },
   "outputs": [],
   "source": [
    "labels_df = pd.read_hdf('Machine Learning\\data.h5', 'labels')"
   ]
  },
  {
   "cell_type": "code",
   "execution_count": 119,
   "metadata": {
    "collapsed": false
   },
   "outputs": [
    {
     "name": "stdout",
     "output_type": "stream",
     "text": [
      "   Alarmclock  Alcohol  Caffeine  Food  Medication  Nicotine  Participant_ID  \\\n",
      "0           1        0         0     0           0         0               1   \n",
      "\n",
      "   Sleep  Sports       Time  Workday  \n",
      "0      1       0 2016-10-31        1  \n"
     ]
    }
   ],
   "source": [
    "print(labels_df[:1])"
   ]
  },
  {
   "cell_type": "code",
   "execution_count": 216,
   "metadata": {
    "collapsed": true
   },
   "outputs": [
    {
     "name": "stdout",
     "output_type": "stream",
     "text": [
      "Part:  1\n",
      "[1, datetime.date(2016, 10, 31), 7.5, 0.0, 7.5, 3.75, 3.75, 3.75, 1]\n",
      "[1, datetime.date(2016, 11, 1), 9.0, 0.0, 9.0, 4.5, 4.5, 4.5, 0]\n",
      "[1, datetime.date(2016, 11, 2), 8.75, 23.0, 7.75, 4.375, 27.375, 3.375, 1]\n",
      "[1, datetime.date(2016, 11, 3), 9.25, 22.5, 7.75, 4.625, 27.125, 3.125, 1]\n",
      "[1, datetime.date(2016, 11, 4), 8.5, 0.75, 9.25, 4.25, 5.0, 5.0, 1]\n",
      "[1, datetime.date(2016, 11, 5), 8.75, 2.25, 11.0, 4.375, 6.625, 6.625, 1]\n",
      "[1, datetime.date(2016, 11, 6), 10.5, 23.5, 10.0, 5.25, 28.75, 4.75, 1]\n",
      "[1, datetime.date(2016, 11, 7), 5.75, 22.25, 4.0, 2.875, 25.125, 1.125, 1]\n",
      "[1, datetime.date(2016, 11, 8), 8.0, 23.0, 7.0, 4.0, 27.0, 3.0, 1]\n",
      "Part:  2\n",
      "[2, datetime.date(2016, 10, 31), 6.0, 0.0, 6.0, 3.0, 3.0, 3.0, 1]\n",
      "[2, datetime.date(2016, 11, 1), 6.25, 0.75, 7.0, 3.125, 3.875, 3.875, 1]\n",
      "[2, datetime.date(2016, 11, 2), 6.0, 1.0, 7.0, 3.0, 4.0, 4.0, 0]\n",
      "[2, datetime.date(2016, 11, 4), 7.0, 23.75, 6.75, 3.5, 27.25, 3.25, 1]\n",
      "[2, datetime.date(2016, 11, 5), 7.0, 23.75, 6.75, 3.5, 27.25, 3.25, 0]\n",
      "[2, datetime.date(2016, 11, 6), 6.5, 0.5, 7.0, 3.25, 3.75, 3.75, 0]\n",
      "[2, datetime.date(2016, 11, 7), 6.5, 0.0, 6.5, 3.25, 3.25, 3.25, 0]\n",
      "[2, datetime.date(2016, 11, 7), 0.25, 18.0, 18.25, 0.125, 18.125, 18.125, 0]\n",
      "Part:  3\n",
      "[3, datetime.date(2016, 10, 31), 7.0, 1.0, 8.0, 3.5, 4.5, 4.5, 1]\n",
      "[3, datetime.date(2016, 11, 1), 11.0, 1.0, 12.0, 5.5, 6.5, 6.5, 0]\n",
      "[3, datetime.date(2016, 11, 2), 10.25, 1.0, 11.25, 5.125, 6.125, 6.125, 0]\n",
      "[3, datetime.date(2016, 11, 3), 6.25, 1.75, 8.0, 3.125, 4.875, 4.875, 1]\n",
      "[3, datetime.date(2016, 11, 4), 10.5, 2.25, 12.75, 5.25, 7.5, 7.5, 0]\n",
      "[3, datetime.date(2016, 11, 5), 10.25, 3.0, 13.25, 5.125, 8.125, 8.125, 0]\n",
      "[3, datetime.date(2016, 11, 6), 10.25, 3.25, 13.5, 5.125, 8.375, 8.375, 0]\n",
      "[3, datetime.date(2016, 11, 8), 2.75, 4.25, 7.0, 1.375, 5.625, 5.625, 1]\n",
      "Part:  4\n",
      "[4, datetime.date(2016, 10, 31), 7.5, 0.0, 7.5, 3.75, 3.75, 3.75, 1]\n",
      "[4, datetime.date(2016, 11, 1), 4.5, 5.0, 9.5, 2.25, 7.25, 7.25, 0]\n",
      "[4, datetime.date(2016, 11, 2), 7.5, 0.0, 7.5, 3.75, 3.75, 3.75, 1]\n",
      "[4, datetime.date(2016, 11, 3), 7.5, 23.0, 6.5, 3.75, 26.75, 2.75, 1]\n",
      "[4, datetime.date(2016, 11, 4), 8.0, 0.0, 8.0, 4.0, 4.0, 4.0, 1]\n",
      "[4, datetime.date(2016, 11, 5), 7.75, 2.5, 10.25, 3.875, 6.375, 6.375, 0]\n",
      "[4, datetime.date(2016, 11, 7), 8.0, 0.0, 8.0, 4.0, 4.0, 4.0, 1]\n",
      "Part:  5\n",
      "[5, datetime.date(2016, 10, 31), 7.5, 0.0, 7.5, 3.75, 3.75, 3.75, 1]\n",
      "[5, datetime.date(2016, 11, 1), 5.5, 0.0, 5.5, 2.75, 2.75, 2.75, 0]\n",
      "[5, datetime.date(2016, 11, 1), 3.75, 5.75, 9.5, 1.875, 7.625, 7.625, 0]\n",
      "[5, datetime.date(2016, 11, 2), 0.25, 0.5, 0.75, 0.125, 0.625, 0.625, 1]\n",
      "[5, datetime.date(2016, 11, 2), 0.25, 1.5, 1.75, 0.125, 1.625, 1.625, 1]\n",
      "[5, datetime.date(2016, 11, 2), 5.75, 2.0, 7.75, 2.875, 4.875, 4.875, 1]\n",
      "[5, datetime.date(2016, 11, 3), 9.0, 23.0, 8.0, 4.5, 27.5, 3.5, 1]\n",
      "[5, datetime.date(2016, 11, 4), 7.0, 2.5, 9.5, 3.5, 6.0, 6.0, 1]\n",
      "[5, datetime.date(2016, 11, 5), 8.0, 2.25, 10.25, 4.0, 6.25, 6.25, 0]\n",
      "[5, datetime.date(2016, 11, 6), 10.0, 0.0, 10.0, 5.0, 5.0, 5.0, 0]\n",
      "[5, datetime.date(2016, 11, 7), 8.0, 22.5, 6.5, 4.0, 26.5, 2.5, 1]\n",
      "Part:  7\n",
      "[7, datetime.date(2016, 10, 31), 7.5, 0.0, 7.5, 3.75, 3.75, 3.75, 0]\n",
      "[7, datetime.date(2016, 11, 1), 3.0, 21.0, 0.0, 1.5, 22.5, 22.5, 0]\n",
      "[7, datetime.date(2016, 11, 3), 8.0, 0.0, 8.0, 4.0, 4.0, 4.0, 0]\n",
      "[7, datetime.date(2016, 11, 4), 9.75, 23.0, 8.75, 4.875, 27.875, 3.875, 1]\n",
      "[7, datetime.date(2016, 11, 5), 11.25, 22.5, 9.75, 5.625, 28.125, 4.125, 1]\n",
      "[7, datetime.date(2016, 11, 6), 3.25, 21.75, 1.0, 1.625, 23.375, 23.375, 1]\n",
      "[7, datetime.date(2016, 11, 6), 7.0, 4.75, 11.75, 3.5, 8.25, 8.25, 1]\n",
      "[7, datetime.date(2016, 11, 6), 2.0, 20.75, 22.75, 1.0, 21.75, 21.75, 1]\n",
      "[7, datetime.date(2016, 11, 7), 7.25, 2.25, 9.5, 3.625, 5.875, 5.875, 1]\n",
      "[7, datetime.date(2016, 11, 8), 0.5, 23.5, 0.0, 0.25, 23.75, 23.75, 0]\n",
      "Part:  8\n",
      "[8, datetime.date(2016, 10, 31), 7.75, 0.0, 7.75, 3.875, 3.875, 3.875, 0]\n",
      "[8, datetime.date(2016, 11, 1), 9.25, 0.0, 9.25, 4.625, 4.625, 4.625, 0]\n",
      "[8, datetime.date(2016, 11, 1), 0.75, 15.0, 15.75, 0.375, 15.375, 15.375, 0]\n",
      "[8, datetime.date(2016, 11, 2), 8.25, 23.0, 7.25, 4.125, 27.125, 3.125, 0]\n",
      "[8, datetime.date(2016, 11, 3), 9.0, 23.0, 8.0, 4.5, 27.5, 3.5, 0]\n",
      "[8, datetime.date(2016, 11, 4), 9.25, 22.75, 8.0, 4.625, 27.375, 3.375, 0]\n",
      "[8, datetime.date(2016, 11, 5), 10.25, 23.0, 9.25, 5.125, 28.125, 4.125, 0]\n",
      "[8, datetime.date(2016, 11, 6), 9.0, 23.0, 8.0, 4.5, 27.5, 3.5, 0]\n",
      "[8, datetime.date(2016, 11, 7), 8.75, 23.0, 7.75, 4.375, 27.375, 3.375, 0]\n"
     ]
    }
   ],
   "source": [
    "#Some test code - before clearing\n",
    "for p in set(labels_df['Participant_ID']):\n",
    "    arrtryW = []\n",
    "    arrtryF = []\n",
    "    datesleeparr = []\n",
    "    sleepper = 0\n",
    "    for i in range (0,len(labels_df)):\n",
    "        if labels_df['Participant_ID'][i]==p:\n",
    "        # Variables\n",
    "            datetime = labels_df['Time'][i]\n",
    "            date = datetime.date()\n",
    "            hour = datetime.hour\n",
    "            mins = datetime.minute\n",
    "            time = hour + mins/60\n",
    "            mc=0\n",
    "            \n",
    "        # WORKDAYS COUNTING    \n",
    "            if labels_df['Workday'][i]==1:\n",
    "                arrtryW.append(date)\n",
    "            if labels_df['Workday'][i]==0:\n",
    "                arrtryF.append(date)\n",
    "        # END OF WORKDAYS COUNTING\n",
    "    \n",
    "            if labels_df['Sleep'][i]==1:\n",
    "                sleepper+=1\n",
    "                if sleepper==1:\n",
    "                    gosleepdt = datetime\n",
    "                    gosleeptime = time\n",
    "            else:\n",
    "                if labels_df['Sleep'][i]==0 and sleepper!=0:\n",
    "                    mc = (gosleeptime + sleepper*0.125)\n",
    "                    datesleeparr.append([p, date, sleepper*0.25, gosleeptime, time,sleepper*0.125, mc, mc%24, labels_df['Alarmclock'][i]])\n",
    "                    sleepper = 0\n",
    "                   \n",
    "    print('Part: ',p)\n",
    "    #print(sorted(set(arrtryW)))\n",
    "    #print(sorted(set(arrtryF)))\n",
    "    #print(len(set(arrtryW)))\n",
    "    #print(len(set(arrtryF)))\n",
    "    for item in datesleeparr:\n",
    "        print(item) \n"
   ]
  },
  {
   "cell_type": "code",
   "execution_count": 222,
   "metadata": {
    "collapsed": false
   },
   "outputs": [],
   "source": [
    "# Output arrays\n",
    "particMSFsc = []\n",
    "particMSFperday = []\n",
    "\n",
    "#getting sleep info before cleaning\n",
    "for p in set(labels_df['Participant_ID']):\n",
    "    datesleeparr = []\n",
    "    sleepper = 0\n",
    "    for i in range (0,len(labels_df)):\n",
    "        if labels_df['Participant_ID'][i]==p:\n",
    "        # Variables\n",
    "            datetime = labels_df['Time'][i]\n",
    "            date = datetime.date()\n",
    "            hour = datetime.hour\n",
    "            mins = datetime.minute\n",
    "            time = hour + mins/60\n",
    "            mc=0\n",
    "               \n",
    "            if labels_df['Sleep'][i]==1:\n",
    "                sleepper+=1\n",
    "                if sleepper==1:\n",
    "                    gosleepdt = datetime\n",
    "                    gosleeptime = time\n",
    "            else:\n",
    "                if labels_df['Sleep'][i]==0 and sleepper!=0:\n",
    "                    mc = (gosleeptime + sleepper*0.125)%24\n",
    "                    datesleeparr.append([p, date, sleepper*0.25, gosleeptime, time, mc, labels_df['Alarmclock'][i], labels_df['Workday'][i]])\n",
    "                    sleepper = 0\n",
    "                   \n",
    "    #print('Part: ',p)\n",
    "    \n",
    "    # Merging sleep periods, gap between which is less than 45 mins\n",
    "    datesleeparrM = []\n",
    "    for k in range (0, len(datesleeparr)-1):\n",
    "        delt = (datesleeparr[k+1][3]-datesleeparr[k][4])\n",
    "        if ((delt<0) and (24 + delt)<=0.75 and datesleeparr[k+1][1].day-datesleeparr[k][1].day<=1):\n",
    "            datesleeparr[k+1][3]=datesleeparr[k][3]\n",
    "            datesleeparr[k+1][2]=datesleeparr[k+1][2]+delt+24+datesleeparr[k][2]\n",
    "            datesleeparr[k+1][5] =(datesleeparr[k+1][3] + datesleeparr[k+1][2]*0.5)%24\n",
    "        else:\n",
    "            if (delt<=0.75 and delt>=0 and datesleeparr[k+1][1].day-datesleeparr[k][1].day<=1):\n",
    "                datesleeparr[k+1][3]=datesleeparr[k][3]\n",
    "                datesleeparr[k+1][2]=datesleeparr[k+1][2]+delt+datesleeparr[k][2]\n",
    "                datesleeparr[k+1][5] =(datesleeparr[k+1][3] + datesleeparr[k+1][2]*0.5)%24\n",
    "            else:\n",
    "                datesleeparrM.append(datesleeparr[k])\n",
    "    datesleeparrM.append(datesleeparr[len(datesleeparr)-1])\n",
    "    \n",
    "    # Cleaning short sleep periods per day\n",
    "    datesleeparr = []    \n",
    "    a=datesleeparrM[0]\n",
    "    for k in range (0, len(datesleeparrM)-1):\n",
    "        if datesleeparrM[k][1]==datesleeparrM[k+1][1]:\n",
    "            if datesleeparrM[k][2]>datesleeparrM[k+1][2]:\n",
    "                a=datesleeparrM[k]\n",
    "            else:\n",
    "                a=datesleeparrM[k+1]\n",
    "        else:\n",
    "            datesleeparr.append(a)\n",
    "            a = datesleeparrM[k+1] \n",
    "    datesleeparr.append(a)\n",
    "\n",
    "    #for item in datesleeparr:\n",
    "    #    print(item) \n",
    "    \n",
    "    #---------------------\n",
    "    # Counting MSFsc\n",
    "    #---------------------\n",
    "    \n",
    "    durWD = 0\n",
    "    durFD = 0\n",
    "    countWD = 0\n",
    "    countFD = 0\n",
    "\n",
    "    for k1 in range (0,7):\n",
    "        if datesleeparr[k1][7]==1:\n",
    "            durWD += datesleeparr[k1][2]\n",
    "            countWD +=1\n",
    "        else:\n",
    "            durFD += datesleeparr[k1][2]\n",
    "            countFD +=1\n",
    "    if countWD!=0:\n",
    "        sdw = durWD/countWD\n",
    "    else:\n",
    "        sdw = 0\n",
    "    if countFD!=0:\n",
    "        sdf = durFD/countFD\n",
    "    else:\n",
    "        sdf = 0\n",
    "        \n",
    "    sdweek = (durWD+durFD)/7\n",
    "    \n",
    "    MSFmax = 0\n",
    "    DurMax = 0\n",
    "    for k1 in range (0,len(datesleeparr)):\n",
    "        if datesleeparr[k1][6]==0:\n",
    "            if datesleeparr[k1][2]>DurMax:\n",
    "                MSFmax = datesleeparr[k1][5]\n",
    "                DurMax = datesleeparr[k1][2]\n",
    "    #print('MSFmax: ', MSFmax)        \n",
    "    \n",
    "    if sdw<sdf:\n",
    "        MSFsc =  MSFmax - (sdf-sdweek)/2\n",
    "    else: MSFsc = MSFmax\n",
    "        \n",
    "    particMSFsc.append([p, MSFsc])\n",
    "    for k1 in range (0,len(datesleeparr)):\n",
    "        particMSFperday.append([p, datesleeparr[k1][1], datesleeparr[k1][5]])\n",
    "    \n",
    "    #print('SDw: ', sdw, durWD, countWD)\n",
    "    #print('SDf: ', sdf, durFD, countFD)\n",
    "    #print('SDweek: ', sdweek)\n",
    "    #print('MSFsc: ', MSFsc)"
   ]
  },
  {
   "cell_type": "code",
   "execution_count": 224,
   "metadata": {
    "collapsed": true
   },
   "outputs": [
    {
     "name": "stdout",
     "output_type": "stream",
     "text": [
      "[[1, 4.238095238095238], [2, 3.107142857142857], [3, 5.928571428571429], [4, 6.375], [5, 5.0], [7, 4.0], [8, 3.8571428571428568]]\n",
      " \n",
      "[1, datetime.date(2016, 10, 31), 3.75]\n",
      "[1, datetime.date(2016, 11, 1), 4.5]\n",
      "[1, datetime.date(2016, 11, 2), 3.375]\n",
      "[1, datetime.date(2016, 11, 3), 3.125]\n",
      "[1, datetime.date(2016, 11, 4), 5.0]\n",
      "[1, datetime.date(2016, 11, 5), 6.625]\n",
      "[1, datetime.date(2016, 11, 6), 4.75]\n",
      "[1, datetime.date(2016, 11, 7), 1.125]\n",
      "[1, datetime.date(2016, 11, 8), 3.0]\n",
      "[2, datetime.date(2016, 10, 31), 3.0]\n",
      "[2, datetime.date(2016, 11, 1), 3.875]\n",
      "[2, datetime.date(2016, 11, 2), 4.0]\n",
      "[2, datetime.date(2016, 11, 4), 3.25]\n",
      "[2, datetime.date(2016, 11, 5), 3.25]\n",
      "[2, datetime.date(2016, 11, 6), 3.75]\n",
      "[2, datetime.date(2016, 11, 7), 3.25]\n",
      "[3, datetime.date(2016, 10, 31), 4.5]\n",
      "[3, datetime.date(2016, 11, 1), 6.5]\n",
      "[3, datetime.date(2016, 11, 2), 6.125]\n",
      "[3, datetime.date(2016, 11, 3), 4.875]\n",
      "[3, datetime.date(2016, 11, 4), 7.5]\n",
      "[3, datetime.date(2016, 11, 5), 8.125]\n",
      "[3, datetime.date(2016, 11, 6), 8.375]\n",
      "[3, datetime.date(2016, 11, 8), 5.625]\n",
      "[4, datetime.date(2016, 10, 31), 3.75]\n",
      "[4, datetime.date(2016, 11, 1), 7.25]\n",
      "[4, datetime.date(2016, 11, 2), 3.75]\n",
      "[4, datetime.date(2016, 11, 3), 2.75]\n",
      "[4, datetime.date(2016, 11, 4), 4.0]\n",
      "[4, datetime.date(2016, 11, 5), 6.375]\n",
      "[4, datetime.date(2016, 11, 7), 4.0]\n",
      "[5, datetime.date(2016, 10, 31), 3.75]\n",
      "[5, datetime.date(2016, 11, 1), 4.75]\n",
      "[5, datetime.date(2016, 11, 2), 4.125]\n",
      "[5, datetime.date(2016, 11, 3), 3.5]\n",
      "[5, datetime.date(2016, 11, 4), 6.0]\n",
      "[5, datetime.date(2016, 11, 5), 6.25]\n",
      "[5, datetime.date(2016, 11, 6), 5.0]\n",
      "[5, datetime.date(2016, 11, 7), 2.5]\n",
      "[7, datetime.date(2016, 10, 31), 3.75]\n",
      "[7, datetime.date(2016, 11, 1), 22.5]\n",
      "[7, datetime.date(2016, 11, 3), 4.0]\n",
      "[7, datetime.date(2016, 11, 4), 3.875]\n",
      "[7, datetime.date(2016, 11, 5), 4.125]\n",
      "[7, datetime.date(2016, 11, 6), 8.25]\n",
      "[7, datetime.date(2016, 11, 7), 5.875]\n",
      "[7, datetime.date(2016, 11, 8), 23.75]\n",
      "[8, datetime.date(2016, 10, 31), 3.875]\n",
      "[8, datetime.date(2016, 11, 1), 4.625]\n",
      "[8, datetime.date(2016, 11, 2), 3.125]\n",
      "[8, datetime.date(2016, 11, 3), 3.5]\n",
      "[8, datetime.date(2016, 11, 4), 3.375]\n",
      "[8, datetime.date(2016, 11, 5), 4.125]\n",
      "[8, datetime.date(2016, 11, 6), 3.5]\n",
      "[8, datetime.date(2016, 11, 7), 3.375]\n"
     ]
    }
   ],
   "source": [
    "print(particMSFsc)\n",
    "print(\" \")\n",
    "for item in particMSFperday:\n",
    "    print(item)"
   ]
  },
  {
   "cell_type": "code",
   "execution_count": 196,
   "metadata": {
    "collapsed": false
   },
   "outputs": [
    {
     "name": "stdout",
     "output_type": "stream",
     "text": [
      "2016-10-31\n",
      "2016-10-31\n",
      "31\n"
     ]
    },
    {
     "ename": "AttributeError",
     "evalue": "'Timestamp' object has no attribute 'datetime'",
     "output_type": "error",
     "traceback": [
      "\u001b[0;31m---------------------------------------------------------------------------\u001b[0m",
      "\u001b[0;31mAttributeError\u001b[0m                            Traceback (most recent call last)",
      "\u001b[0;32m<ipython-input-196-5c95bad46ee7>\u001b[0m in \u001b[0;36m<module>\u001b[0;34m()\u001b[0m\n\u001b[1;32m     13\u001b[0m \u001b[0mprint\u001b[0m\u001b[1;33m(\u001b[0m\u001b[0mtry123\u001b[0m\u001b[1;33m)\u001b[0m\u001b[1;33m\u001b[0m\u001b[0m\n\u001b[1;32m     14\u001b[0m \u001b[1;33m\u001b[0m\u001b[0m\n\u001b[0;32m---> 15\u001b[0;31m \u001b[0mst\u001b[0m \u001b[1;33m=\u001b[0m \u001b[0mdatetime\u001b[0m\u001b[1;33m.\u001b[0m\u001b[0mdatetime\u001b[0m\u001b[1;33m.\u001b[0m\u001b[0mstrptime\u001b[0m\u001b[1;33m(\u001b[0m\u001b[0mt\u001b[0m\u001b[1;33m,\u001b[0m\u001b[1;34m'%Y-%m-%d'\u001b[0m\u001b[1;33m)\u001b[0m\u001b[1;33m\u001b[0m\u001b[0m\n\u001b[0m\u001b[1;32m     16\u001b[0m \u001b[1;33m\u001b[0m\u001b[0m\n\u001b[1;32m     17\u001b[0m \u001b[0mprint\u001b[0m\u001b[1;33m(\u001b[0m\u001b[0mtry123\u001b[0m\u001b[1;33m)\u001b[0m\u001b[1;33m\u001b[0m\u001b[0m\n",
      "\u001b[0;31mAttributeError\u001b[0m: 'Timestamp' object has no attribute 'datetime'"
     ]
    }
   ],
   "source": [
    "test_time_try = labels_df['Time'][1]\n",
    "#test_time_try = labels_df.Time.timestamp.iloc[0]\n",
    "h = test_time_try.date()\n",
    "#h = test_time_try.apply(lambda x: x.hour)\n",
    "#m = test_time_try.apply(lambda x: x.minute)\n",
    "print(h)\n",
    "print(str(h))\n",
    "t = '2016-10-31'\n",
    "t1 = str(h)\n",
    "#try3 = t.strftime('%Y-%m-%d %H:%M:%S')\n",
    "st3 = date.strftime(t)\n",
    "try123 = test_time_try.day\n",
    "print(try123)\n",
    "\n",
    "st = datetime.datetime.strptime(t,'%Y-%m-%d')\n",
    "\n",
    "print(try123)\n",
    "print(st3)\n",
    "print(st)\n",
    "print('jc')\n",
    "st1 = datetime.datetime.strptime(t1,'%Y-%m-%d')\n",
    "print(st1)\n",
    "\n",
    "import time\n",
    "import datetime\n",
    "\n",
    "s = \"01/12/2011\""
   ]
  }
 ],
 "metadata": {
  "anaconda-cloud": {},
  "kernelspec": {
   "display_name": "Python [conda env:root3.5]",
   "language": "python",
   "name": "conda-env-root3.5-py"
  },
  "language_info": {
   "codemirror_mode": {
    "name": "ipython",
    "version": 3
   },
   "file_extension": ".py",
   "mimetype": "text/x-python",
   "name": "python",
   "nbconvert_exporter": "python",
   "pygments_lexer": "ipython3",
   "version": "3.5.2"
  }
 },
 "nbformat": 4,
 "nbformat_minor": 1
}
